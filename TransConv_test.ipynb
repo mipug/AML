{
 "cells": [
  {
   "cell_type": "code",
   "execution_count": 13,
   "metadata": {},
   "outputs": [
    {
     "data": {
      "text/plain": [
       "tensor([[[[4., 4., 4., 4., 4., 4.],\n",
       "          [4., 4., 4., 4., 4., 4.],\n",
       "          [4., 4., 4., 4., 4., 4.],\n",
       "          [4., 4., 4., 4., 4., 4.],\n",
       "          [4., 4., 4., 4., 4., 4.],\n",
       "          [4., 4., 4., 4., 4., 4.]]]], grad_fn=<ConvolutionBackward0>)"
      ]
     },
     "execution_count": 13,
     "metadata": {},
     "output_type": "execute_result"
    }
   ],
   "source": [
    "# Import the necessary module\n",
    "import torch\n",
    "from torch import nn\n",
    " \n",
    "# Input\n",
    "Input = torch.tensor([[1.0, 1.0, 1.0, 1.0], [1.0, 1.0, 1.0, 1.0], [1.0, 1.0, 1.0, 1.0], [1.0, 1.0, 1.0, 1.0]])\n",
    "#Kernel\n",
    "Kernel = torch.tensor([[1.0, 1.0, 1.0, 1.0], [1.0, 1.0, 1.0, 1.0], [1.0, 1.0, 1.0, 1.0], [1.0, 1.0, 1.0, 1.0]])\n",
    " \n",
    "# Redefine the shape in 4 dimension\n",
    "Input = Input.reshape(1, 1, 4, 4)\n",
    "Kernel = Kernel.reshape(1, 1, 4, 4)\n",
    " \n",
    "# Transpose convolution Layer\n",
    "Transpose = nn.ConvTranspose2d(in_channels =1,\n",
    "                               out_channels =1,\n",
    "                               kernel_size=4,\n",
    "                               stride = 2,\n",
    "                               padding=2,\n",
    "                               bias=False)\n",
    " \n",
    "# Initialize Kernel\n",
    "Transpose.weight.data = Kernel\n",
    "# Output value\n",
    "Transpose(Input)"
   ]
  },
  {
   "cell_type": "code",
   "execution_count": null,
   "metadata": {},
   "outputs": [],
   "source": []
  }
 ],
 "metadata": {
  "kernelspec": {
   "display_name": "venv",
   "language": "python",
   "name": "python3"
  },
  "language_info": {
   "codemirror_mode": {
    "name": "ipython",
    "version": 3
   },
   "file_extension": ".py",
   "mimetype": "text/x-python",
   "name": "python",
   "nbconvert_exporter": "python",
   "pygments_lexer": "ipython3",
   "version": "3.9.13"
  },
  "orig_nbformat": 4
 },
 "nbformat": 4,
 "nbformat_minor": 2
}
