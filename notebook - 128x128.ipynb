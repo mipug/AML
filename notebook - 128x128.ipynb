{
 "cells": [
  {
   "attachments": {},
   "cell_type": "markdown",
   "metadata": {},
   "source": [
    "# I’m Something of a Painter Myself\n",
    "**Kaggle competition**\n",
    "https://www.kaggle.com/competitions/gan-getting-started\n",
    "\n",
    "This notebook contains 1 of the 3 different DCGAN models. \n",
    "Various hyperparameters can be modified to change the outcome of the models. It is also possible to set a fixed random seed.\n",
    "\n",
    "*The notebook is inspired by Pytorch toturial on DCGAN:* https://pytorch.org/tutorials/beginner/dcgan_faces_tutorial.html \n",
    "\n",
    "\n",
    "**Following outline of the notebook:**\n",
    "- Importing libraries \n",
    "- Hyperparameters\n",
    "- Loading the data\n",
    "- Creating the generator for 64x64 pictures\n",
    "- Creating the discriminator\n",
    "- Weights initialization\n",
    "- **DCGAN model**\n",
    "- Plotting the loss function. \n",
    "- Showing a real picture and the latest created fake picture. \n",
    "- Showing the evolution of the generated pictures. \n",
    "\n",
    "**Extra:** Code for the generator and discriminator classes for pictures in size of 128x128 and 256x256.  "
   ]
  },
  {
   "attachments": {},
   "cell_type": "markdown",
   "metadata": {},
   "source": [
    "# Importing libraries\n",
    "\n",
    "We have chosen to use the PyTorch library to build our DCGAN model "
   ]
  },
  {
   "cell_type": "code",
   "execution_count": 1,
   "metadata": {},
   "outputs": [
    {
     "name": "stdout",
     "output_type": "stream",
     "text": [
      "Random Seed:  999\n"
     ]
    },
    {
     "data": {
      "text/plain": [
       "<torch._C.Generator at 0x23f2294f470>"
      ]
     },
     "execution_count": 1,
     "metadata": {},
     "output_type": "execute_result"
    }
   ],
   "source": [
    "import os \n",
    "\n",
    "import torch\n",
    "import torch.nn as nn\n",
    "from torch.utils.data import Dataset, DataLoader\n",
    "import torchvision.transforms as transforms\n",
    "import torch.optim as optim\n",
    "import torchvision.datasets as dset\n",
    "from PIL import Image\n",
    "import matplotlib.pyplot as plt\n",
    "import torchvision.utils as vutils\n",
    "import matplotlib.animation as animation\n",
    "import numpy as np\n",
    "import random\n",
    "from IPython.display import HTML\n",
    "\n",
    "manualSeed = 999\n",
    "print(\"Random Seed: \", manualSeed)\n",
    "random.seed(manualSeed)\n",
    "torch.manual_seed(manualSeed)"
   ]
  },
  {
   "attachments": {},
   "cell_type": "markdown",
   "metadata": {},
   "source": [
    "## \"Hyperparameters to \"change\" the whole model "
   ]
  },
  {
   "cell_type": "code",
   "execution_count": 2,
   "metadata": {},
   "outputs": [],
   "source": [
    "# The root to the folder where the data is stored. \n",
    "dataroot = \"./Data/monet_jpg/\"\n",
    "\n",
    "# The scale of the real image size, this can be downsized. Our original picture size is 256x256\n",
    "image_size = 128\n",
    "\n",
    "# Number of pictures that should be in each batch. \n",
    "batch_size = 10\n",
    "\n",
    "ngpu = 1\n",
    "\n",
    "# Size of the latent vector which the fake images are generated from.\n",
    "latent_size = 100\n",
    "\n",
    "# Feature map size for the generator\n",
    "feature_size_generator = 64 \n",
    "\n",
    "# Feature map size for the generator\n",
    "feature_size_discriminator = 64 \n",
    "\n",
    "# Number of channels in the training and the final number of channels. For RGB color images this is 3.\n",
    "channels = 3\n",
    "\n",
    "# normalization rate.\n",
    "learning_rate = 0.0002\n",
    "\n",
    "# Beta value, used in the Adam optimisor. \n",
    "beta1 = 0.5\n"
   ]
  },
  {
   "attachments": {},
   "cell_type": "markdown",
   "metadata": {},
   "source": [
    "## Code notes\n",
    "\n",
    "**https://www.kaggle.com/code/ninamaamary/dcgan-artist** : DCGAN example from Kaggle.\n",
    "\n",
    "**path_list = os.listdir(img_dir) :** Creates a list with all the file names in the dictionary. \\\n",
    "**abspath = os.path.abspath(img_dir) :** creates a list with all the complete paths, so all these small files names joined with the root path. Such that each picture now has its unique path in the list. \n",
    "\n",
    "**transforms.Normalize() :** Normalize range of R, B and G. ([mean], [std]). Helps CNN to peform better. Have this match with the generator, such that we create pictures in the same range of colors\n",
    "\n",
    "**ToTensor() :** Takes the image and converts it to the pytorch own picture format. \n",
    "\n",
    "**The transform.Compose \"function\" :** It changes the image to a PyTorch format, and is able to \"change\" the picture in certain ways. \n"
   ]
  },
  {
   "attachments": {},
   "cell_type": "markdown",
   "metadata": {},
   "source": [
    "## Dataloader\n",
    "\n",
    "- **Why do we need a batchsize in the Dataloader?** We pick out a number of all our pictures, so the batchsize indicates how many pictures we want to have in a batch. \n",
    "- **Why do we shuffle in the Dataloader?** We need to shuffle in order to collect \"the number of batch size\" pictures. Because the dataloader collects the first N numbers of pictures, we need to shuffle the order of pictures after each collection. \n"
   ]
  },
  {
   "cell_type": "code",
   "execution_count": 3,
   "metadata": {},
   "outputs": [],
   "source": [
    "#import dataset \n",
    "class Dataset(Dataset):\n",
    "    \n",
    "    def __init__(self, img_dir):\n",
    "        path_list = os.listdir(img_dir)\n",
    "        abspath = os.path.abspath(img_dir)\n",
    "\n",
    "        self.img_list = [os.path.join(abspath, path) for path in path_list]\n",
    "\n",
    "        self.transform = transforms.Compose([\n",
    "            transforms.Resize(image_size),\n",
    "            # transforms.CenterCrop(image_size), # Crops the image, doesn't make sense to use. \n",
    "            transforms.ToTensor(),\n",
    "            # transforms.Normalize([1, 0.5, 10], [1, 0.5, 10]), # Makes the picture green. \n",
    "            transforms.Normalize([0.5, 0.5, 0.5], [0.5, 0.5, 0.5]),\n",
    "            # transforms.Normalize([1, 1, 1], [1, 1, 1]),\n",
    "            ############################### Normalize range of R, B and G. ([mean], [std]). Helps CNN to peform better. \n",
    "        ])\n",
    "\n",
    "\n",
    "    def __len__(self):\n",
    "        return len(self.img_list)\n",
    "\n",
    "\n",
    "    def __getitem__(self, index):\n",
    "        path = self.img_list[index]\n",
    "        img = Image.open(path).convert('RGB')\n",
    "        return self.transform(img)"
   ]
  },
  {
   "cell_type": "code",
   "execution_count": 4,
   "metadata": {},
   "outputs": [],
   "source": [
    "monet_dataset = Dataset(dataroot)\n",
    "\n",
    "data_loader = DataLoader(monet_dataset, batch_size=batch_size, shuffle=True)"
   ]
  },
  {
   "cell_type": "code",
   "execution_count": 5,
   "metadata": {},
   "outputs": [
    {
     "name": "stdout",
     "output_type": "stream",
     "text": [
      "The number of batches in the data_loader: 30\n",
      "The number of pictures in a batch: 10 \n",
      "\n",
      "A single example of a picture: tensor([[[ 0.4824,  0.5294,  0.4980,  ...,  0.7647,  0.7176,  0.6000],\n",
      "         [ 0.4510,  0.4824,  0.5765,  ...,  0.7882,  0.7647,  0.6784],\n",
      "         [ 0.4824,  0.5059,  0.5765,  ...,  0.7961,  0.7804,  0.7020],\n",
      "         ...,\n",
      "         [ 0.4039,  0.4196,  0.4510,  ...,  0.0353,  0.1294,  0.0824],\n",
      "         [ 0.3961,  0.5059,  0.4667,  ...,  0.0275,  0.1294,  0.0980],\n",
      "         [ 0.3647,  0.5451,  0.4667,  ..., -0.0667,  0.0118,  0.0196]],\n",
      "\n",
      "        [[ 0.4667,  0.5294,  0.5059,  ...,  0.7098,  0.6314,  0.4980],\n",
      "         [ 0.4510,  0.4902,  0.6000,  ...,  0.7176,  0.6784,  0.5686],\n",
      "         [ 0.5137,  0.5451,  0.6235,  ...,  0.7176,  0.6863,  0.5922],\n",
      "         ...,\n",
      "         [ 0.2784,  0.3255,  0.4039,  ..., -0.5059, -0.5451, -0.6549],\n",
      "         [ 0.2784,  0.4353,  0.4431,  ..., -0.3882, -0.4118, -0.5137],\n",
      "         [ 0.2392,  0.4510,  0.4353,  ..., -0.2941, -0.2863, -0.3255]],\n",
      "\n",
      "        [[ 0.2078,  0.3020,  0.3255,  ...,  0.5765,  0.4588,  0.2863],\n",
      "         [ 0.2941,  0.3569,  0.4980,  ...,  0.5922,  0.5059,  0.3647],\n",
      "         [ 0.4667,  0.5137,  0.6235,  ...,  0.6000,  0.5137,  0.3882],\n",
      "         ...,\n",
      "         [-0.1137, -0.0275,  0.1373,  ..., -0.8353, -0.8353, -0.9216],\n",
      "         [ 0.0431,  0.2000,  0.2314,  ..., -0.8588, -0.8353, -0.9059],\n",
      "         [ 0.1137,  0.3020,  0.2627,  ..., -0.8745, -0.8510, -0.8588]]])\n"
     ]
    }
   ],
   "source": [
    "print(\"The number of batches in the data_loader:\", len(data_loader))\n",
    "print(\"The number of pictures in a batch:\", data_loader.batch_size, \"\\n\")\n",
    "print(\"A single example of a picture:\", data_loader.dataset[0])"
   ]
  },
  {
   "attachments": {},
   "cell_type": "markdown",
   "metadata": {},
   "source": [
    "## Plotting an image from the training data.\n",
    "\n",
    "Code is directly taken from: \n",
    "https://pytorch.org/tutorials/beginner/dcgan_faces_tutorial.html"
   ]
  },
  {
   "cell_type": "code",
   "execution_count": 6,
   "metadata": {},
   "outputs": [
    {
     "data": {
      "image/png": "[encoded data removed]",
      "text/plain": [
       "<Figure size 800x800 with 1 Axes>"
      ]
     },
     "metadata": {},
     "output_type": "display_data"
    }
   ],
   "source": [
    "device = torch.device(\"cuda:0\" if (torch.cuda.is_available() and ngpu > 0) else \"cpu\")\n",
    "\n",
    "real_batch = next(iter(data_loader))\n",
    "plt.figure(figsize=(8,8))\n",
    "plt.axis(\"off\")\n",
    "plt.title(\"Training Images\")\n",
    "plt.imshow(np.transpose(vutils.make_grid(real_batch[0].to(device)[:64], padding=2, normalize=True).cpu(),(1,2,0)))\n",
    "plt.show()"
   ]
  },
  {
   "attachments": {},
   "cell_type": "markdown",
   "metadata": {},
   "source": [
    "#### ConvTranspose2d( in_channels, out_channels, kernel_size, stride=1, padding=0, output_padding=0, groups=1, bias=True, dilation=1, padding_mode='zeros', device=None, dtype=None\n",
    "\n",
    "- in_channels (number of channels in the input image), \n",
    "- out_channels (number of channels produced by the convolution), \n",
    "- kernel_size (size of the convolving kernel), \n",
    "- stride=1 (stride of the convolution. Default: 1), \n",
    "- padding=0 ---(dilation * (kernel_size - 1) - padding --- zero-padding will be added to both sides of each dimension in the input. Default: 0), \n",
    "- output_padding=0 (Additional size added to one side of each dimension in the output shape. Default: 0), \n",
    "- groups=1 (Number of blocked connections from input channels to output channels. Default: 1), \n",
    "- bias=True (If True, adds a learnable bias to the output.), \n",
    "- dilation=1 (Spacing between kernel elements. Default: 1), \n",
    "- padding_mode='zeros', \n",
    "- device=None, \n",
    "- dtype=None)"
   ]
  },
  {
   "cell_type": "code",
   "execution_count": 7,
   "metadata": {},
   "outputs": [],
   "source": [
    "#generator class\n",
    "class Generator(nn.Module):\n",
    "    def __init__(self, ngpu):\n",
    "        super(Generator, self).__init__()\n",
    "        self.ngpu = ngpu\n",
    "        self.main = nn.Sequential(\n",
    "            # input is Z, going into a convolution\n",
    "            nn.ConvTranspose2d( in_channels=latent_size, out_channels=feature_size_generator * 16, kernel_size=4, stride=1, padding=0, bias=False), \n",
    "            nn.BatchNorm2d(feature_size_generator * 16), # Applies Batch Normalization over a 4D input (a mini-batch of 2D inputs with additional channel dimension)\n",
    "            nn.ReLU(True), #output the input directly if it is positive, otherwise, it will output zero. \n",
    "            \n",
    "\n",
    "            # state size. ``(feature_maps_size*16) x 4 x 4``\n",
    "            nn.ConvTranspose2d(feature_size_generator * 16, feature_size_generator * 8, 4, 2, 1, bias=False),\n",
    "            nn.BatchNorm2d(feature_size_generator * 8),\n",
    "            nn.ReLU(True),\n",
    "\n",
    "\n",
    "            # state size. ``(feature_maps_size*8) x 8 x 8``\n",
    "            nn.ConvTranspose2d(feature_size_generator * 8, feature_size_generator * 4, 4, 2, 1, bias=False),\n",
    "            nn.BatchNorm2d(feature_size_generator * 4),\n",
    "            nn.ReLU(True),\n",
    "            \n",
    "            # state size. ``(feature_maps_size*4) x 16 x 16``\n",
    "            nn.ConvTranspose2d( feature_size_generator * 4, feature_size_generator * 2, 4, 2, 1, bias=False),\n",
    "            nn.BatchNorm2d(feature_size_generator * 2),\n",
    "            nn.ReLU(True),\n",
    "            \n",
    "            # state size. ``(feature_maps_size*2) x 32 x 32``\n",
    "            nn.ConvTranspose2d( feature_size_generator * 2, feature_size_generator, 4, 2, 1, bias=False),\n",
    "            nn.BatchNorm2d(feature_size_generator),\n",
    "            nn.ReLU(True),\n",
    "            \n",
    "            # state size. ``(feature_maps_size) x 64 x 64``\n",
    "            nn.ConvTranspose2d( feature_size_generator, channels, 4, 2, 1, bias=False),\n",
    "            nn.Tanh()\n",
    "            # state size. ``(channels) x 64 x 64``\n",
    "        )\n",
    "\n",
    "    def forward(self, input):\n",
    "        return self.main(input)"
   ]
  },
  {
   "cell_type": "code",
   "execution_count": 8,
   "metadata": {},
   "outputs": [],
   "source": [
    "#discriminator class\n",
    "class Discriminator(nn.Module):\n",
    "    def __init__(self, ngpu):\n",
    "        super(Discriminator, self).__init__()\n",
    "        self.ngpu = ngpu\n",
    "        self.main = nn.Sequential(\n",
    "            # input is ``(nc) x 64 x 64``\n",
    "            nn.Conv2d(channels, feature_size_discriminator, 4, 2, 1, bias=False),\n",
    "            nn.LeakyReLU(0.2, inplace=True),\n",
    "            # state size. ``(ndf) x 32 x 32``\n",
    "            nn.Conv2d(feature_size_discriminator, feature_size_discriminator * 2, 4, 2, 1, bias=False),\n",
    "            nn.BatchNorm2d(feature_size_discriminator * 2),\n",
    "            nn.LeakyReLU(0.2, inplace=True),\n",
    "            # state size. ``(ndf*2) x 16 x 16``\n",
    "            nn.Conv2d(feature_size_discriminator * 2, feature_size_discriminator * 4, 4, 2, 1, bias=False),\n",
    "            nn.BatchNorm2d(feature_size_discriminator * 4),\n",
    "            nn.LeakyReLU(0.2, inplace=True),\n",
    "            # state size. ``(ndf*4) x 8 x 8``\n",
    "            nn.Conv2d(feature_size_discriminator * 4, feature_size_discriminator * 8, 4, 2, 1, bias=False),\n",
    "            nn.BatchNorm2d(feature_size_discriminator * 8),\n",
    "            nn.LeakyReLU(0.2, inplace=True),\n",
    "            # state size. ``(ndf*8) x 4 x 4``\n",
    "            nn.Conv2d(feature_size_discriminator * 8, feature_size_discriminator * 16, 4, 2, 1, bias=False),\n",
    "            nn.BatchNorm2d(feature_size_discriminator * 16),\n",
    "            nn.LeakyReLU(0.2, inplace=True),\n",
    "\n",
    "            nn.Conv2d(feature_size_discriminator * 16, 1, 4, 1, 0, bias=False),\n",
    "            nn.Sigmoid()\n",
    "        )\n",
    "\n",
    "    def forward(self, input):\n",
    "        return self.main(input)"
   ]
  },
  {
   "attachments": {},
   "cell_type": "markdown",
   "metadata": {},
   "source": [
    "## Weights initianlization\n",
    "\n",
    "It goes through every \"node\" in the neural network and set the first initial \"parameters\". Setting it to follow values som a normal distribution and then applies it to different parts of the neural network, both the Conv and the BatchNorm.\n",
    "\n",
    "The normal distribution follow a mean of 0 and a standard deviation of 0.2\n",
    "\n",
    "**nn.init.constant_:** Fills the bias values to be all 0.\n",
    "\n",
    "**netG** and **netD** is the two \"final\" but initialized networks, that we then later on use and train our model on. The output shows how each step of the model is."
   ]
  },
  {
   "cell_type": "code",
   "execution_count": 9,
   "metadata": {},
   "outputs": [],
   "source": [
    "# custom weights initialization called on ``netG`` and ``netD``\n",
    "def weights_init(m):\n",
    "    classname = m.__class__.__name__\n",
    "    if classname.find('Conv') != -1:\n",
    "        nn.init.normal_(m.weight.data, 0.0, 0.02)\n",
    "    elif classname.find('BatchNorm') != -1:\n",
    "        nn.init.normal_(m.weight.data, 0.0, 0.02)\n",
    "        nn.init.constant_(m.bias.data, 0)"
   ]
  },
  {
   "cell_type": "code",
   "execution_count": 10,
   "metadata": {},
   "outputs": [
    {
     "name": "stdout",
     "output_type": "stream",
     "text": [
      "Discriminator(\n",
      "  (main): Sequential(\n",
      "    (0): Conv2d(3, 64, kernel_size=(4, 4), stride=(2, 2), padding=(1, 1), bias=False)\n",
      "    (1): LeakyReLU(negative_slope=0.2, inplace=True)\n",
      "    (2): Conv2d(64, 128, kernel_size=(4, 4), stride=(2, 2), padding=(1, 1), bias=False)\n",
      "    (3): BatchNorm2d(128, eps=1e-05, momentum=0.1, affine=True, track_running_stats=True)\n",
      "    (4): LeakyReLU(negative_slope=0.2, inplace=True)\n",
      "    (5): Conv2d(128, 256, kernel_size=(4, 4), stride=(2, 2), padding=(1, 1), bias=False)\n",
      "    (6): BatchNorm2d(256, eps=1e-05, momentum=0.1, affine=True, track_running_stats=True)\n",
      "    (7): LeakyReLU(negative_slope=0.2, inplace=True)\n",
      "    (8): Conv2d(256, 512, kernel_size=(4, 4), stride=(2, 2), padding=(1, 1), bias=False)\n",
      "    (9): BatchNorm2d(512, eps=1e-05, momentum=0.1, affine=True, track_running_stats=True)\n",
      "    (10): LeakyReLU(negative_slope=0.2, inplace=True)\n",
      "    (11): Conv2d(512, 1024, kernel_size=(4, 4), stride=(2, 2), padding=(1, 1), bias=False)\n",
      "    (12): BatchNorm2d(1024, eps=1e-05, momentum=0.1, affine=True, track_running_stats=True)\n",
      "    (13): LeakyReLU(negative_slope=0.2, inplace=True)\n",
      "    (14): Conv2d(1024, 1, kernel_size=(4, 4), stride=(1, 1), bias=False)\n",
      "    (15): Sigmoid()\n",
      "  )\n",
      ")\n",
      "Generator(\n",
      "  (main): Sequential(\n",
      "    (0): ConvTranspose2d(100, 1024, kernel_size=(4, 4), stride=(1, 1), bias=False)\n",
      "    (1): BatchNorm2d(1024, eps=1e-05, momentum=0.1, affine=True, track_running_stats=True)\n",
      "    (2): ReLU(inplace=True)\n",
      "    (3): ConvTranspose2d(1024, 512, kernel_size=(4, 4), stride=(2, 2), padding=(1, 1), bias=False)\n",
      "    (4): BatchNorm2d(512, eps=1e-05, momentum=0.1, affine=True, track_running_stats=True)\n",
      "    (5): ReLU(inplace=True)\n",
      "    (6): ConvTranspose2d(512, 256, kernel_size=(4, 4), stride=(2, 2), padding=(1, 1), bias=False)\n",
      "    (7): BatchNorm2d(256, eps=1e-05, momentum=0.1, affine=True, track_running_stats=True)\n",
      "    (8): ReLU(inplace=True)\n",
      "    (9): ConvTranspose2d(256, 128, kernel_size=(4, 4), stride=(2, 2), padding=(1, 1), bias=False)\n",
      "    (10): BatchNorm2d(128, eps=1e-05, momentum=0.1, affine=True, track_running_stats=True)\n",
      "    (11): ReLU(inplace=True)\n",
      "    (12): ConvTranspose2d(128, 64, kernel_size=(4, 4), stride=(2, 2), padding=(1, 1), bias=False)\n",
      "    (13): BatchNorm2d(64, eps=1e-05, momentum=0.1, affine=True, track_running_stats=True)\n",
      "    (14): ReLU(inplace=True)\n",
      "    (15): ConvTranspose2d(64, 3, kernel_size=(4, 4), stride=(2, 2), padding=(1, 1), bias=False)\n",
      "    (16): Tanh()\n",
      "  )\n",
      ")\n"
     ]
    }
   ],
   "source": [
    "# Create the discriminator and the generator. \n",
    "netG = Generator(ngpu).to(device)\n",
    "netD = Discriminator(ngpu).to(device)\n",
    "\n",
    "# Apply the ``weights_init`` function to randomly initialize all weights in discriminator and generator\n",
    "netG.apply(weights_init)\n",
    "netD.apply(weights_init)\n",
    "\n",
    "# Print the models\n",
    "print(netD)\n",
    "print(netG)"
   ]
  },
  {
   "cell_type": "code",
   "execution_count": 11,
   "metadata": {},
   "outputs": [],
   "source": [
    "## Loss functions \n",
    "# Initialize the ``BCELoss`` function, Binary cross entropy\n",
    "criterion = nn.BCELoss()\n",
    "\n",
    "# Create batch of latent vectors that we will use to visualize\n",
    "# the progression of the generator\n",
    "fixed_noise = torch.randn(64, latent_size, 1, 1, device=device)\n",
    "\n",
    "# Establish convention for real and fake labels during training\n",
    "real_label = 1.\n",
    "fake_label = 0.\n",
    "\n",
    "# Setup Adam optimizers for both G and D\n",
    "optimizerD = optim.Adam(netD.parameters(), lr=learning_rate, betas=(beta1, 0.999))\n",
    "optimizerG = optim.Adam(netG.parameters(), lr=learning_rate, betas=(beta1, 0.999))"
   ]
  },
  {
   "attachments": {},
   "cell_type": "markdown",
   "metadata": {},
   "source": [
    "## Understanding the code\n",
    "\n",
    "for i, real in enumerate(data_loader, 0):\n",
    "real is 1 picture in the batch. "
   ]
  },
  {
   "cell_type": "code",
   "execution_count": null,
   "metadata": {},
   "outputs": [],
   "source": [
    "import sys\n",
    "num_epochs = 5\n",
    "\n",
    "img_list = []\n",
    "G_losses = []\n",
    "D_losses = []\n",
    "iters = 0\n",
    "first_image = list()\n",
    "last_image = list()\n",
    "\n",
    "\n",
    "for epoch in range(num_epochs):\n",
    "    # For each batch in the dataloader\n",
    "    print(epoch)\n",
    "    for batch_idx, real in enumerate(data_loader, 0):\n",
    "        # batch_idx: get us the index that we use to pick a specific batch that we have divided our data into.\n",
    "        # real: is all the 10 pictures. \n",
    "\n",
    "        # Generates a batch of latent vectors, meaning that when we have a batch size of 10, \n",
    "        # this code creates 10 different vectors with the amount of numbers in the vector that is the same as the latent_size\n",
    "        noise = torch.randn(batch_size, latent_size, 1, 1, device=device)\n",
    "    \n",
    "        netD.zero_grad()\n",
    " \n",
    "        # Format batch\n",
    "        batch_size = real.size(0) # Isn't this the same value..? Umiddelbart skete der ikke noget ved at kommentere den ud..?  \n",
    "        label = torch.full((batch_size,), real_label, dtype=torch.float, device=device)\n",
    "\n",
    "        ############################\n",
    "        # Train Discriminator: maximize log(D(x)) + log(1 - D(G(z)))\n",
    "        ###########################\n",
    "        ## Train with all-real batch\n",
    "        # DISCRIMINATOR GETS REAL DATA \n",
    "        d_real = netD(real.to(device)).view(-1)\n",
    "        # LOSS ON REAL DATA\n",
    "        errD_real = criterion(d_real, label)\n",
    "        # Calculate gradients for D in backward pass\n",
    "        errD_real.backward()\n",
    "        D_x = d_real.mean().item()\n",
    "\n",
    "        ## DISCRIMINATOR GETS FAKE DATA\n",
    "        # Generate fake image batch with G, creates the amount of number in the batch. \n",
    "        fake = netG(noise)\n",
    "        label.fill_(fake_label)\n",
    "        # Label is just a vector consisting of 0. \n",
    "        \n",
    "\n",
    "        # Classify all fake batch with D\n",
    "        output = netD(fake.detach()).view(-1)\n",
    "        # Calculate D's loss on the all-fake batch\n",
    "        errD_fake = criterion(output, label)\n",
    "        # Calculate the gradients for this batch, accumulated (summed) with previous gradients\n",
    "        errD_fake.backward()\n",
    "        D_G_z1 = output.mean().item()\n",
    "        # Compute error of D as sum over the fake and the real batches\n",
    "        errD = errD_real + errD_fake         \n",
    "        # Update D\n",
    "        optimizerD.step()\n",
    "\n",
    "        \n",
    "\n",
    "        ############################\n",
    "        # (2) Train G network: maximize log(D(G(z)))\n",
    "        ############################\n",
    "        netG.zero_grad()\n",
    "        label.fill_(real_label)  # fake labels are real for generator cost\n",
    "        # Since we just updated D, perform another forward pass of all-fake batch through D\n",
    "        output = netD(fake).view(-1)\n",
    "        # Calculate G's loss based on this output\n",
    "        errG = criterion(output, label)\n",
    "        # Calculate gradients for G\n",
    "        errG.backward()\n",
    "        D_G_z2 = output.mean().item()\n",
    "        # Update G\n",
    "        optimizerG.step()\n",
    "\n",
    "        # Output training stats\n",
    "        if batch_idx % 50 == 0:\n",
    "            print('[%d/%d][%d/%d]\\tLoss_D: %.4f\\tLoss_G: %.4f\\tD(x): %.4f\\tD(G(z)): %.4f / %.4f'\n",
    "                  % (epoch, num_epochs, batch_idx, len(data_loader),\n",
    "                     errD.item(), errG.item(), D_x, D_G_z1, D_G_z2))\n",
    "         \n",
    "        G_losses.append(errG.item())\n",
    "        D_losses.append(errD.item())\n",
    "\n",
    "        # Check how the generator is doing by saving G's output on fixed_noise\n",
    "        if (iters % 500 == 0) or ((epoch == num_epochs-1) and (batch_idx == len(data_loader)-1)):\n",
    "            with torch.no_grad():\n",
    "                fake = netG(fixed_noise).detach().cpu()\n",
    "            img_list.append(vutils.make_grid(fake, padding=2, normalize=True))\n",
    "        iters += 1\n",
    "\n",
    "    # Save the first generated picture in the first_iamge variable.\n",
    "    if epoch == 0:\n",
    "        first_image.append(vutils.make_grid(fake[0], padding=2, normalize=True))\n",
    "\n",
    "    # Save the last generated picture in the last_image variable.\n",
    "    if epoch == num_epochs-1:\n",
    "        last_image.append(vutils.make_grid(fake[0], padding=2, normalize=True))\n",
    "    \n",
    "        "
   ]
  },
  {
   "attachments": {},
   "cell_type": "markdown",
   "metadata": {},
   "source": [
    "## Looking at the results"
   ]
  },
  {
   "cell_type": "code",
   "execution_count": null,
   "metadata": {},
   "outputs": [],
   "source": [
    "plt.figure(figsize=(10,5))\n",
    "plt.title(\"Generator and Discriminator Loss During Training\")\n",
    "plt.plot(G_losses,label=\"G\")\n",
    "plt.plot(D_losses,label=\"D\")\n",
    "plt.xlabel(\"iterations\")\n",
    "plt.ylabel(\"Loss\")\n",
    "plt.legend()\n",
    "plt.show()"
   ]
  },
  {
   "cell_type": "code",
   "execution_count": null,
   "metadata": {},
   "outputs": [],
   "source": [
    "# Plotting several generated images. \n",
    "plt.figure(figsize=(15,15))\n",
    "plt.subplot(1,2,2)\n",
    "plt.axis(\"off\")\n",
    "plt.title(\"Fake Images\")\n",
    "plt.imshow(np.transpose(img_list[-1],(1,2,0)))\n",
    "plt.show()"
   ]
  },
  {
   "cell_type": "code",
   "execution_count": null,
   "metadata": {},
   "outputs": [],
   "source": [
    "# Plotting the first generated picture.  \n",
    "plt.figure(figsize=(15,15))\n",
    "plt.subplot(1,2,2)\n",
    "plt.axis(\"off\")\n",
    "plt.title(\"First generated fake Images\")\n",
    "plt.imshow(np.transpose(first_image[-1],(1,2,0)))\n",
    "plt.show()"
   ]
  },
  {
   "cell_type": "code",
   "execution_count": null,
   "metadata": {},
   "outputs": [],
   "source": [
    "# Plotting the last generated picture.  \n",
    "plt.figure(figsize=(15,15))\n",
    "plt.subplot(1,2,2)\n",
    "plt.axis(\"off\")\n",
    "plt.title(\"Last generated fake Images\")\n",
    "plt.imshow(np.transpose(last_image[-1],(1,2,0)))\n",
    "plt.show()"
   ]
  }
 ],
 "metadata": {
  "kernelspec": {
   "display_name": "AML",
   "language": "python",
   "name": "python3"
  },
  "language_info": {
   "codemirror_mode": {
    "name": "ipython",
    "version": 3
   },
   "file_extension": ".py",
   "mimetype": "text/x-python",
   "name": "python",
   "nbconvert_exporter": "python",
   "pygments_lexer": "ipython3",
   "version": "3.9.13"
  },
  "orig_nbformat": 4
 },
 "nbformat": 4,
 "nbformat_minor": 2
}
