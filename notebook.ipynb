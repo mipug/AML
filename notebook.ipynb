{
 "cells": [
  {
   "attachments": {},
   "cell_type": "markdown",
   "metadata": {},
   "source": [
    "# Importing libraries\n",
    "\n",
    "We have chosen to use the PyTorch library to build our DCGAN model "
   ]
  },
  {
   "cell_type": "code",
   "execution_count": 49,
   "metadata": {},
   "outputs": [],
   "source": [
    "import os \n",
    "\n",
    "import torch\n",
    "import torch.nn as nn\n",
    "from torch.utils.data import Dataset, DataLoader\n",
    "import torchvision.transforms as transforms\n",
    "import torchvision.datasets as dset\n",
    "from PIL import Image\n",
    "import matplotlib.pyplot as plt\n",
    "import torchvision.utils as vutils\n",
    "import numpy as np"
   ]
  },
  {
   "attachments": {},
   "cell_type": "markdown",
   "metadata": {},
   "source": [
    "## \"Hyperparameters to \"change\" the whole model "
   ]
  },
  {
   "cell_type": "code",
   "execution_count": 106,
   "metadata": {},
   "outputs": [],
   "source": [
    "# input definitions\n",
    "dataroot = \"./Data/monet_jpg/\"\n",
    "\n",
    "# Our original picture size is 256x256\n",
    "image_size = 65\n",
    "\n",
    "batch_size= 1\n",
    "\n",
    "ngpu = 1\n",
    "\n",
    "# Change the normalization of the real input images.\n",
    "\n"
   ]
  },
  {
   "attachments": {},
   "cell_type": "markdown",
   "metadata": {},
   "source": [
    "## Code notes\n",
    "\n",
    "**https://www.kaggle.com/code/ninamaamary/dcgan-artist** : DCGAN example from Kaggle.\n",
    "\n",
    "**path_list = os.listdir(img_dir) :** Creates a list with all the file names in the dictionary. \\\n",
    "**abspath = os.path.abspath(img_dir) :** creates a list with all the complete paths, so all these small files names joined with the root path. Such that each picture now has its unique path in the list. \n",
    "\n",
    "**transforms.Normalize() :** Normalize range of R, B and G. ([mean], [std]). Helps CNN to peform better. Have this match with the generator, such that we create pictures in the same range of colors\n",
    "\n",
    "**ToTensor() :** Takes the image and converts it to the pytorch own picture format. \n",
    "\n",
    "**The transform.Compose \"function\" :** It changes the image to a PyTorch format, and is able to \"change\" the picture in certain ways. \n"
   ]
  },
  {
   "attachments": {},
   "cell_type": "markdown",
   "metadata": {},
   "source": [
    "## Questions... ? (we are confused)\n",
    "\n",
    "- Why do we need a batchsize in the Dataloader?\n",
    "- Why do we shuffle in the Dataloader? \n"
   ]
  },
  {
   "cell_type": "code",
   "execution_count": 107,
   "metadata": {},
   "outputs": [],
   "source": [
    "#import dataset \n",
    "class Dataset(Dataset):\n",
    "    \n",
    "    def __init__(self, img_dir):\n",
    "        path_list = os.listdir(img_dir)\n",
    "        abspath = os.path.abspath(img_dir)\n",
    "\n",
    "        self.img_list = [os.path.join(abspath, path) for path in path_list]\n",
    "\n",
    "        self.transform = transforms.Compose([\n",
    "            transforms.Resize(image_size),\n",
    "            # transforms.CenterCrop(image_size), # Crops the image, doesn't make sense to use. \n",
    "            transforms.ToTensor(),\n",
    "            # transforms.Normalize([1, 0.5, 10], [1, 0.5, 10]), # Makes the picture green. \n",
    "            transforms.Normalize([0.5, 0.5, 0.5], [0.5, 0.5, 0.5]),\n",
    "            # transforms.Normalize([1, 1, 1], [1, 1, 1]),\n",
    "            ############################### Normalize range of R, B and G. ([mean], [std]). Helps CNN to peform better. \n",
    "        ])\n",
    "\n",
    "\n",
    "    def __len__(self):\n",
    "        return len(self.img_list)\n",
    "\n",
    "\n",
    "    def __getitem__(self, index):\n",
    "        path = self.img_list[index]\n",
    "        img = Image.open(path).convert('RGB')\n",
    "        return self.transform(img)"
   ]
  },
  {
   "cell_type": "code",
   "execution_count": 108,
   "metadata": {},
   "outputs": [],
   "source": [
    "monet_dataset = Dataset(dataroot)\n",
    "\n",
    "data_loader = DataLoader(monet_dataset, batch_size=batch_size, shuffle=True)"
   ]
  },
  {
   "cell_type": "code",
   "execution_count": 116,
   "metadata": {},
   "outputs": [
    {
     "name": "stdout",
     "output_type": "stream",
     "text": [
      "tensor([[[ 0.4902,  0.5529,  0.5686,  ...,  0.7804,  0.7804,  0.7020],\n",
      "         [ 0.5059,  0.5765,  0.5137,  ...,  0.8039,  0.7961,  0.7569],\n",
      "         [ 0.5216,  0.5765,  0.5294,  ...,  0.8118,  0.8039,  0.7961],\n",
      "         ...,\n",
      "         [ 0.6392,  0.5922,  0.5451,  ..., -0.1294,  0.0745,  0.0039],\n",
      "         [ 0.4902,  0.4902,  0.4510,  ..., -0.0588,  0.0510,  0.0431],\n",
      "         [ 0.4588,  0.4118,  0.3882,  ..., -0.0039,  0.0275,  0.0667]],\n",
      "\n",
      "        [[ 0.4902,  0.5765,  0.6235,  ...,  0.7333,  0.7176,  0.6078],\n",
      "         [ 0.5686,  0.6549,  0.6078,  ...,  0.7412,  0.7255,  0.6549],\n",
      "         [ 0.6471,  0.7020,  0.6627,  ...,  0.7412,  0.7255,  0.6784],\n",
      "         ...,\n",
      "         [ 0.3569,  0.3804,  0.3882,  ..., -0.4745, -0.3569, -0.5529],\n",
      "         [ 0.3333,  0.4353,  0.4902,  ..., -0.4039, -0.4196, -0.5922],\n",
      "         [ 0.3569,  0.4275,  0.4980,  ..., -0.1608, -0.2627, -0.3961]],\n",
      "\n",
      "        [[ 0.3098,  0.4667,  0.5686,  ...,  0.6471,  0.6078,  0.4275],\n",
      "         [ 0.5294,  0.6549,  0.6078,  ...,  0.6784,  0.6235,  0.4667],\n",
      "         [ 0.5843,  0.6627,  0.6078,  ...,  0.6549,  0.5765,  0.4353],\n",
      "         ...,\n",
      "         [-0.1216,  0.0431,  0.1373,  ..., -0.7569, -0.6157, -0.8118],\n",
      "         [-0.0588,  0.1765,  0.3255,  ..., -0.7647, -0.7412, -0.8667],\n",
      "         [ 0.1608,  0.2314,  0.3647,  ..., -0.7412, -0.7961, -0.8667]]])\n"
     ]
    }
   ],
   "source": [
    "# Get an example of what a picture looks like, note that there is our 3 layers of color.\n",
    "print(monet_dataset[0])"
   ]
  },
  {
   "attachments": {},
   "cell_type": "markdown",
   "metadata": {},
   "source": [
    "## Plotting an image, just for fun.\n",
    "\n",
    "Code is directly taken from: \n",
    "https://pytorch.org/tutorials/beginner/dcgan_faces_tutorial.html"
   ]
  },
  {
   "cell_type": "code",
   "execution_count": 109,
   "metadata": {},
   "outputs": [
    {
     "data": {
      "image/png": "[encoded data removed]",
      "text/plain": [
       "<Figure size 800x800 with 1 Axes>"
      ]
     },
     "metadata": {},
     "output_type": "display_data"
    }
   ],
   "source": [
    "device = torch.device(\"cuda:0\" if (torch.cuda.is_available() and ngpu > 0) else \"cpu\")\n",
    "\n",
    "real_batch = next(iter(data_loader))\n",
    "plt.figure(figsize=(8,8))\n",
    "plt.axis(\"off\")\n",
    "plt.title(\"Training Images\")\n",
    "plt.imshow(np.transpose(vutils.make_grid(real_batch[0].to(device)[:64], padding=2, normalize=True).cpu(),(1,2,0)))\n",
    "plt.show()"
   ]
  },
  {
   "cell_type": "code",
   "execution_count": null,
   "metadata": {},
   "outputs": [],
   "source": [
    "#generator class"
   ]
  },
  {
   "cell_type": "code",
   "execution_count": null,
   "metadata": {},
   "outputs": [],
   "source": [
    "#discriminator class\n",
    "class Discriminator(nn.Module):\n",
    "    #ting sker her\n",
    "    \n",
    "    pass"
   ]
  },
  {
   "cell_type": "code",
   "execution_count": null,
   "metadata": {},
   "outputs": [],
   "source": []
  },
  {
   "cell_type": "code",
   "execution_count": null,
   "metadata": {},
   "outputs": [],
   "source": []
  },
  {
   "cell_type": "code",
   "execution_count": null,
   "metadata": {},
   "outputs": [],
   "source": [
    "#results"
   ]
  }
 ],
 "metadata": {
  "kernelspec": {
   "display_name": "AML",
   "language": "python",
   "name": "python3"
  },
  "language_info": {
   "codemirror_mode": {
    "name": "ipython",
    "version": 3
   },
   "file_extension": ".py",
   "mimetype": "text/x-python",
   "name": "python",
   "nbconvert_exporter": "python",
   "pygments_lexer": "ipython3",
   "version": "3.8.16"
  },
  "orig_nbformat": 4
 },
 "nbformat": 4,
 "nbformat_minor": 2
}
