{
 "cells": [
  {
   "attachments": {},
   "cell_type": "markdown",
   "metadata": {},
   "source": [
    "# Importing libraries\n",
    "\n",
    "We have chosen to use the PyTorch library to build our DCGAN model "
   ]
  },
  {
   "cell_type": "code",
   "execution_count": 1,
   "metadata": {},
   "outputs": [],
   "source": [
    "import os \n",
    "\n",
    "import torch\n",
    "import torch.nn as nn\n",
    "from torch.utils.data import Dataset, DataLoader\n",
    "import torchvision.transforms as transforms\n",
    "import torchvision.datasets as dset\n",
    "from PIL import Image\n",
    "import matplotlib.pyplot as plt\n",
    "import torchvision.utils as vutils\n",
    "import numpy as np"
   ]
  },
  {
   "attachments": {},
   "cell_type": "markdown",
   "metadata": {},
   "source": [
    "## \"Hyperparameters to \"change\" the whole model "
   ]
  },
  {
   "cell_type": "code",
   "execution_count": 14,
   "metadata": {},
   "outputs": [],
   "source": [
    "# input definitions\n",
    "dataroot = \"./Data/monet_jpg/\"\n",
    "\n",
    "# Our original picture size is 256x256\n",
    "image_size = 64\n",
    "\n",
    "batch_size= 1\n",
    "\n",
    "ngpu = 1\n",
    "\n",
    "latent_size = 100\n",
    "\n",
    "feature_maps_size = 64\n",
    "\n",
    "# Number of channels in the training images. For color images this is 3\n",
    "channels = 3\n",
    "\n",
    "# Change the normalization of the real input images.\n",
    "\n"
   ]
  },
  {
   "attachments": {},
   "cell_type": "markdown",
   "metadata": {},
   "source": [
    "## Code notes\n",
    "\n",
    "**https://www.kaggle.com/code/ninamaamary/dcgan-artist** : DCGAN example from Kaggle.\n",
    "\n",
    "**path_list = os.listdir(img_dir) :** Creates a list with all the file names in the dictionary. \\\n",
    "**abspath = os.path.abspath(img_dir) :** creates a list with all the complete paths, so all these small files names joined with the root path. Such that each picture now has its unique path in the list. \n",
    "\n",
    "**transforms.Normalize() :** Normalize range of R, B and G. ([mean], [std]). Helps CNN to peform better. Have this match with the generator, such that we create pictures in the same range of colors\n",
    "\n",
    "**ToTensor() :** Takes the image and converts it to the pytorch own picture format. \n",
    "\n",
    "**The transform.Compose \"function\" :** It changes the image to a PyTorch format, and is able to \"change\" the picture in certain ways. \n"
   ]
  },
  {
   "attachments": {},
   "cell_type": "markdown",
   "metadata": {},
   "source": [
    "## Questions... ? (we are confused)\n",
    "\n",
    "- Why do we need a batchsize in the Dataloader?\n",
    "- Why do we shuffle in the Dataloader? \n"
   ]
  },
  {
   "cell_type": "code",
   "execution_count": 15,
   "metadata": {},
   "outputs": [],
   "source": [
    "#import dataset \n",
    "class Dataset(Dataset):\n",
    "    \n",
    "    def __init__(self, img_dir):\n",
    "        path_list = os.listdir(img_dir)\n",
    "        abspath = os.path.abspath(img_dir)\n",
    "\n",
    "        self.img_list = [os.path.join(abspath, path) for path in path_list]\n",
    "\n",
    "        self.transform = transforms.Compose([\n",
    "            transforms.Resize(image_size),\n",
    "            # transforms.CenterCrop(image_size), # Crops the image, doesn't make sense to use. \n",
    "            transforms.ToTensor(),\n",
    "            # transforms.Normalize([1, 0.5, 10], [1, 0.5, 10]), # Makes the picture green. \n",
    "            transforms.Normalize([0.5, 0.5, 0.5], [0.5, 0.5, 0.5]),\n",
    "            # transforms.Normalize([1, 1, 1], [1, 1, 1]),\n",
    "            ############################### Normalize range of R, B and G. ([mean], [std]). Helps CNN to peform better. \n",
    "        ])\n",
    "\n",
    "\n",
    "    def __len__(self):\n",
    "        return len(self.img_list)\n",
    "\n",
    "\n",
    "    def __getitem__(self, index):\n",
    "        path = self.img_list[index]\n",
    "        img = Image.open(path).convert('RGB')\n",
    "        return self.transform(img)"
   ]
  },
  {
   "cell_type": "code",
   "execution_count": 16,
   "metadata": {},
   "outputs": [],
   "source": [
    "monet_dataset = Dataset(dataroot)\n",
    "\n",
    "data_loader = DataLoader(monet_dataset, batch_size=batch_size, shuffle=True)"
   ]
  },
  {
   "cell_type": "code",
   "execution_count": 17,
   "metadata": {},
   "outputs": [
    {
     "name": "stdout",
     "output_type": "stream",
     "text": [
      "tensor([[[ 0.4902,  0.5529,  0.5686,  ...,  0.7804,  0.7804,  0.7098],\n",
      "         [ 0.5137,  0.5765,  0.5137,  ...,  0.8039,  0.7961,  0.7569],\n",
      "         [ 0.5216,  0.5765,  0.5294,  ...,  0.8118,  0.8039,  0.7961],\n",
      "         ...,\n",
      "         [ 0.6392,  0.5922,  0.5451,  ..., -0.1294,  0.0667,  0.0118],\n",
      "         [ 0.4902,  0.4980,  0.4510,  ..., -0.0667,  0.0510,  0.0431],\n",
      "         [ 0.4588,  0.4118,  0.3882,  ..., -0.0118,  0.0353,  0.0667]],\n",
      "\n",
      "        [[ 0.4980,  0.5843,  0.6235,  ...,  0.7333,  0.7176,  0.6157],\n",
      "         [ 0.5686,  0.6549,  0.6078,  ...,  0.7412,  0.7255,  0.6549],\n",
      "         [ 0.6471,  0.7020,  0.6627,  ...,  0.7412,  0.7255,  0.6863],\n",
      "         ...,\n",
      "         [ 0.3569,  0.3804,  0.3882,  ..., -0.4588, -0.3490, -0.5373],\n",
      "         [ 0.3412,  0.4353,  0.4902,  ..., -0.4039, -0.4196, -0.5922],\n",
      "         [ 0.3647,  0.4275,  0.5059,  ..., -0.1686, -0.2627, -0.4039]],\n",
      "\n",
      "        [[ 0.3176,  0.4745,  0.5686,  ...,  0.6471,  0.6078,  0.4275],\n",
      "         [ 0.5373,  0.6549,  0.6078,  ...,  0.6784,  0.6235,  0.4667],\n",
      "         [ 0.5843,  0.6627,  0.6157,  ...,  0.6549,  0.5765,  0.4353],\n",
      "         ...,\n",
      "         [-0.1137,  0.0431,  0.1294,  ..., -0.7490, -0.6157, -0.8039],\n",
      "         [-0.0588,  0.1765,  0.3255,  ..., -0.7647, -0.7412, -0.8667],\n",
      "         [ 0.1529,  0.2314,  0.3725,  ..., -0.7412, -0.7882, -0.8667]]])\n"
     ]
    }
   ],
   "source": [
    "# Get an example of what a picture looks like, note that there is our 3 layers of color.\n",
    "print(monet_dataset[0])"
   ]
  },
  {
   "attachments": {},
   "cell_type": "markdown",
   "metadata": {},
   "source": [
    "## Plotting an image, just for fun.\n",
    "\n",
    "Code is directly taken from: \n",
    "https://pytorch.org/tutorials/beginner/dcgan_faces_tutorial.html"
   ]
  },
  {
   "cell_type": "code",
   "execution_count": 18,
   "metadata": {},
   "outputs": [
    {
     "data": {
      "image/png": "[encoded data removed]",
      "text/plain": [
       "<Figure size 800x800 with 1 Axes>"
      ]
     },
     "metadata": {},
     "output_type": "display_data"
    }
   ],
   "source": [
    "device = torch.device(\"cuda:0\" if (torch.cuda.is_available() and ngpu > 0) else \"cpu\")\n",
    "\n",
    "real_batch = next(iter(data_loader))\n",
    "plt.figure(figsize=(8,8))\n",
    "plt.axis(\"off\")\n",
    "plt.title(\"Training Images\")\n",
    "plt.imshow(np.transpose(vutils.make_grid(real_batch[0].to(device)[:64], padding=2, normalize=True).cpu(),(1,2,0)))\n",
    "plt.show()"
   ]
  },
  {
   "cell_type": "markdown",
   "metadata": {},
   "source": [
    "#### ConvTranspose2d( in_channels, out_channels, kernel_size, stride=1, padding=0, output_padding=0, groups=1, bias=True, dilation=1, padding_mode='zeros', device=None, dtype=None\n",
    "\n",
    "- in_channels (number of channels in the input image), \n",
    "- out_channels (number of channels produced by the convolution), \n",
    "- kernel_size (size of the convolving kernel), \n",
    "- stride=1 (stride of the convolution. Default: 1), \n",
    "- padding=0 (dilation * (kernel_size - 1) - padding zero-padding will be added to both sides of each dimension in the input. Default: 0), \n",
    "- output_padding=0 (Additional size added to one side of each dimension in the output shape. Default: 0), \n",
    "- groups=1 (Number of blocked connections from input channels to output channels. Default: 1), \n",
    "- bias=True (If True, adds a learnable bias to the output.), \n",
    "- dilation=1 (Spacing between kernel elements. Default: 1), \n",
    "- padding_mode='zeros', \n",
    "- device=None, \n",
    "- dtype=None)"
   ]
  },
  {
   "attachments": {},
   "cell_type": "markdown",
   "metadata": {},
   "source": [
    "#### Lidt om ReLu\n",
    "ReLU is the most commonly used activation function in neural networks, especially in CNNs. If you are unsure what activation function to use in your network, ReLU is usually a good first choice. It obviously has some advantages, for example making computations more simple and thus cheap, converges faster as it does not obviously suffer from the problems typical e. g. for tanh or sigmoid such as vanishing or exploding gradients…So, it’s almost perfect , except sometimes you may face a “dying ReLU” problem, as the neurons can become dead forever if they are stuck in the negative side, always outputting “0”. "
   ]
  },
  {
   "cell_type": "code",
   "execution_count": 22,
   "metadata": {},
   "outputs": [],
   "source": [
    "#generator class\n",
    "class Generator(nn.Module):\n",
    "    def __init__(self, ngpu):\n",
    "        super(Generator, self).__init__()\n",
    "        self.ngpu = ngpu\n",
    "        self.main = nn.Sequential(\n",
    "            # input is Z, going into a convolution\n",
    "            nn.ConvTranspose2d( in_channels=latent_size, out_channels=feature_maps_size * 8, kernel_size=4, stride=1, padding=0, bias=False), \n",
    "            nn.BatchNorm2d(feature_maps_size * 8), # Applies Batch Normalization over a 4D input (a mini-batch of 2D inputs with additional channel dimension)\n",
    "            nn.ReLU(True), #output the input directly if it is positive, otherwise, it will output zero. \n",
    "            # state size. ``(feature_maps_size*8) x 4 x 4``\n",
    "            nn.ConvTranspose2d(feature_maps_size * 8, feature_maps_size * 4, 4, 2, 1, bias=False),\n",
    "            nn.BatchNorm2d(feature_maps_size * 4),\n",
    "            nn.ReLU(True),\n",
    "            # state size. ``(feature_maps_size*4) x 8 x 8``\n",
    "            nn.ConvTranspose2d( feature_maps_size * 4, feature_maps_size * 2, 4, 2, 1, bias=False),\n",
    "            nn.BatchNorm2d(feature_maps_size * 2),\n",
    "            nn.ReLU(True),\n",
    "            # state size. ``(feature_maps_size*2) x 16 x 16``\n",
    "            nn.ConvTranspose2d( feature_maps_size * 2, feature_maps_size, 4, 2, 1, bias=False),\n",
    "            nn.BatchNorm2d(feature_maps_size),\n",
    "            nn.ReLU(True),\n",
    "            # state size. ``(feature_maps_size) x 32 x 32``\n",
    "            nn.ConvTranspose2d( feature_maps_size, channels, 4, 2, 1, bias=False),\n",
    "            nn.Tanh()\n",
    "            # state size. ``(channels) x 64 x 64``\n",
    "        )\n",
    "\n",
    "    def forward(self, input):\n",
    "        return self.main(input)"
   ]
  },
  {
   "cell_type": "code",
   "execution_count": 23,
   "metadata": {},
   "outputs": [],
   "source": [
    "# custom weights initialization called on ``netG`` and ``netD``\n",
    "def weights_init(m):\n",
    "    classname = m.__class__.__name__\n",
    "    if classname.find('Conv') != -1:\n",
    "        nn.init.normal_(m.weight.data, 0.0, 0.02)\n",
    "    elif classname.find('BatchNorm') != -1:\n",
    "        nn.init.normal_(m.weight.data, 1.0, 0.02)\n",
    "        nn.init.constant_(m.bias.data, 0)"
   ]
  },
  {
   "cell_type": "code",
   "execution_count": 24,
   "metadata": {},
   "outputs": [
    {
     "name": "stdout",
     "output_type": "stream",
     "text": [
      "Generator(\n",
      "  (main): Sequential(\n",
      "    (0): ConvTranspose2d(100, 512, kernel_size=(4, 4), stride=(1, 1), bias=False)\n",
      "    (1): BatchNorm2d(512, eps=1e-05, momentum=0.1, affine=True, track_running_stats=True)\n",
      "    (2): ReLU(inplace=True)\n",
      "    (3): ConvTranspose2d(512, 256, kernel_size=(4, 4), stride=(2, 2), padding=(1, 1), bias=False)\n",
      "    (4): BatchNorm2d(256, eps=1e-05, momentum=0.1, affine=True, track_running_stats=True)\n",
      "    (5): ReLU(inplace=True)\n",
      "    (6): ConvTranspose2d(256, 128, kernel_size=(4, 4), stride=(2, 2), padding=(1, 1), bias=False)\n",
      "    (7): BatchNorm2d(128, eps=1e-05, momentum=0.1, affine=True, track_running_stats=True)\n",
      "    (8): ReLU(inplace=True)\n",
      "    (9): ConvTranspose2d(128, 64, kernel_size=(4, 4), stride=(2, 2), padding=(1, 1), bias=False)\n",
      "    (10): BatchNorm2d(64, eps=1e-05, momentum=0.1, affine=True, track_running_stats=True)\n",
      "    (11): ReLU(inplace=True)\n",
      "    (12): ConvTranspose2d(64, 3, kernel_size=(4, 4), stride=(2, 2), padding=(1, 1), bias=False)\n",
      "    (13): Tanh()\n",
      "  )\n",
      ")\n"
     ]
    }
   ],
   "source": [
    "netG = Generator(ngpu).to(device)\n",
    "\n",
    "\n",
    "# Apply the ``weights_init`` function to randomly initialize all weights\n",
    "#  to ``mean=0``, ``stdev=0.02``.\n",
    "netG.apply(weights_init)\n",
    "\n",
    "# Print the model\n",
    "print(netG)"
   ]
  },
  {
   "cell_type": "code",
   "execution_count": null,
   "metadata": {},
   "outputs": [],
   "source": [
    "#discriminator class\n",
    "class Discriminator(nn.Module):\n",
    "    #ting sker her\n",
    "    \n",
    "    pass"
   ]
  },
  {
   "cell_type": "code",
   "execution_count": null,
   "metadata": {},
   "outputs": [],
   "source": []
  },
  {
   "cell_type": "code",
   "execution_count": null,
   "metadata": {},
   "outputs": [],
   "source": []
  },
  {
   "cell_type": "code",
   "execution_count": null,
   "metadata": {},
   "outputs": [],
   "source": [
    "#results"
   ]
  }
 ],
 "metadata": {
  "kernelspec": {
   "display_name": "AML",
   "language": "python",
   "name": "python3"
  },
  "language_info": {
   "codemirror_mode": {
    "name": "ipython",
    "version": 3
   },
   "file_extension": ".py",
   "mimetype": "text/x-python",
   "name": "python",
   "nbconvert_exporter": "python",
   "pygments_lexer": "ipython3",
   "version": "3.8.16"
  },
  "orig_nbformat": 4
 },
 "nbformat": 4,
 "nbformat_minor": 2
}
