{
 "cells": [
  {
   "attachments": {},
   "cell_type": "markdown",
   "metadata": {},
   "source": [
    "# I’m Something of a Painter Myself\n",
    "**Kaggle competition**\n",
    "https://www.kaggle.com/competitions/gan-getting-started\n",
    "\n",
    "This notebook contains 3 different DCGAN models. \n",
    "Various hyperparameters can be modified to change the outcome of the models, notice that some hyperparameters a depending on the format of the model. It is also possible to set a fixed random seed, in order to ensure ...\n",
    "\n",
    "*The notebook is inspired by Pytorch toturial on DCGAN:* https://pytorch.org/tutorials/beginner/dcgan_faces_tutorial.html \n",
    "\n",
    "\n",
    "**Following outline of the notebook:**\n",
    "- Importing libraries \n",
    "- Hyperparameters\n",
    "- Loading the data\n",
    "- Creating the generator for 64x64 pictures\n",
    "- Creating the discriminator\n",
    "- Weights initialization\n",
    "- **DCGAN model**\n",
    "- Plotting the loss function. \n",
    "- Showing a real picture and the latest created fake picture. \n",
    "- Showing the evolution of the generated pictures. \n",
    "\n",
    "**Extra:** Code for the generator and discriminator classes for pictures in size of 128x128 and 256x256.  "
   ]
  },
  {
   "attachments": {},
   "cell_type": "markdown",
   "metadata": {},
   "source": [
    "## Importing libraries \n",
    "\n",
    "To ensure that all libraries have the optimal versions, please see *requirements.txt* file"
   ]
  },
  {
   "cell_type": "code",
   "execution_count": 1,
   "metadata": {},
   "outputs": [
    {
     "name": "stdout",
     "output_type": "stream",
     "text": [
      "Random Seed:  999\n"
     ]
    },
    {
     "data": {
      "text/plain": [
       "<torch._C.Generator at 0x24997208490>"
      ]
     },
     "execution_count": 1,
     "metadata": {},
     "output_type": "execute_result"
    }
   ],
   "source": [
    "import os \n",
    "\n",
    "import torch\n",
    "import torch.nn as nn\n",
    "from torch.utils.data import Dataset, DataLoader\n",
    "import torchvision.transforms as transforms\n",
    "import torch.optim as optim\n",
    "import torchvision.datasets as dset\n",
    "from PIL import Image\n",
    "import matplotlib.pyplot as plt\n",
    "import torchvision.utils as vutils\n",
    "import matplotlib.animation as animation\n",
    "import numpy as np\n",
    "import random\n",
    "from IPython.display import HTML\n",
    "\n",
    "manualSeed = 999\n",
    "print(\"Random Seed: \", manualSeed)\n",
    "random.seed(manualSeed)\n",
    "torch.manual_seed(manualSeed)"
   ]
  },
  {
   "attachments": {},
   "cell_type": "markdown",
   "metadata": {},
   "source": [
    "## Hyper parameters"
   ]
  },
  {
   "cell_type": "code",
   "execution_count": null,
   "metadata": {},
   "outputs": [],
   "source": [
    "# The root to the folder where the data is stored. \n",
    "dataroot = \"./Data/monet_jpg/\"\n",
    "\n",
    "# The scale of the real image size, this can be downsized. Our original picture size is 256x256\n",
    "image_size = 64\n",
    "\n",
    "# Number of pictures that should be in each batch. \n",
    "batch_size = 10\n",
    "\n",
    "ngpu = 1\n",
    "\n",
    "# Size of the latent vector which the fake images are generated from.\n",
    "latent_size = 100\n",
    "\n",
    "#in generator \n",
    "feature_maps_size_g = 64 \n",
    "\n",
    "#in discriminator\n",
    "feature_maps_size_d = 64 \n",
    "\n",
    "\n",
    "# Number of channels in the training i and the final number of channels. mages. For color images this is 3\n",
    "channels = 3\n",
    "\n",
    "# Change the normalization of the real input images.\n",
    "lr = 0.0002\n",
    "\n",
    "beta1 = 0.5\n"
   ]
  }
 ],
 "metadata": {
  "kernelspec": {
   "display_name": "venv",
   "language": "python",
   "name": "python3"
  },
  "language_info": {
   "codemirror_mode": {
    "name": "ipython",
    "version": 3
   },
   "file_extension": ".py",
   "mimetype": "text/x-python",
   "name": "python",
   "nbconvert_exporter": "python",
   "pygments_lexer": "ipython3",
   "version": "3.9.13"
  },
  "orig_nbformat": 4
 },
 "nbformat": 4,
 "nbformat_minor": 2
}
